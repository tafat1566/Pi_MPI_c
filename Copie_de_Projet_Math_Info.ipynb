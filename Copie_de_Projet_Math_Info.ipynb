{
  "nbformat": 4,
  "nbformat_minor": 0,
  "metadata": {
    "colab": {
      "name": "Copie de Projet Math_Info.ipynb",
      "provenance": [],
      "collapsed_sections": [],
      "authorship_tag": "ABX9TyPlhG5Ii6dBNsqGcMXeKqeG",
      "include_colab_link": true
    },
    "kernelspec": {
      "name": "python3",
      "display_name": "Python 3"
    },
    "language_info": {
      "name": "python"
    }
  },
  "cells": [
    {
      "cell_type": "markdown",
      "metadata": {
        "id": "view-in-github",
        "colab_type": "text"
      },
      "source": [
        "<a href=\"https://colab.research.google.com/github/tafat1566/Pi_MPI_c/blob/main/Copie_de_Projet_Math_Info.ipynb\" target=\"_parent\"><img src=\"https://colab.research.google.com/assets/colab-badge.svg\" alt=\"Open In Colab\"/></a>"
      ]
    },
    {
      "cell_type": "markdown",
      "source": [
        ""
      ],
      "metadata": {
        "id": "uhgZsdeGXuLr"
      }
    },
    {
      "cell_type": "markdown",
      "source": [
        "https://rosettacode.org/wiki/Euler_method#Python"
      ],
      "metadata": {
        "id": "YumyD_FYXuDQ"
      }
    },
    {
      "cell_type": "code",
      "source": [
        "import numpy as np\n",
        "import seaborn as sns"
      ],
      "metadata": {
        "id": "AtNxU03JaKIL"
      },
      "execution_count": null,
      "outputs": []
    },
    {
      "cell_type": "markdown",
      "source": [
        "**Methode de Newoton  **"
      ],
      "metadata": {
        "id": "iI6Lu4V2P8Ce"
      }
    },
    {
      "cell_type": "code",
      "source": [
        "def Newoton(time, temp):\n",
        "\treturn -0.07 * (temp - 20)"
      ],
      "metadata": {
        "id": "_RTQQrVrBiCs"
      },
      "execution_count": null,
      "outputs": []
    },
    {
      "cell_type": "markdown",
      "source": [
        "**Methode d'Euler explicite **"
      ],
      "metadata": {
        "id": "WgybVZiHQC61"
      }
    },
    {
      "cell_type": "code",
      "execution_count": null,
      "metadata": {
        "id": "8Tg9GVZ4XfhM"
      },
      "outputs": [],
      "source": [
        "def EulerExplicite(f,y0,t0,tm,h):\n",
        "\n",
        "    Ly , Lt =[ y0 ] ,[ t0 ]\n",
        "    while t0<tm:\n",
        "        y0 = y0 + h*np.array ( f(t0 , y0 ))\n",
        "        t0 += h\n",
        "        Ly.append ( y0 )\n",
        "        Lt.append (t0)\n",
        "\n",
        "    return  np.array(Lt),np.array( Ly )\n"
      ]
    },
    {
      "cell_type": "markdown",
      "source": [
        ""
      ],
      "metadata": {
        "id": "vpUQnxq0QEdL"
      }
    },
    {
      "cell_type": "code",
      "source": [
        "X,Y=EulerExplicite(Newoton,100,0,100,10)\n"
      ],
      "metadata": {
        "id": "Ex4TuFkXCAJi"
      },
      "execution_count": null,
      "outputs": []
    },
    {
      "cell_type": "code",
      "source": [
        "X\n"
      ],
      "metadata": {
        "colab": {
          "base_uri": "https://localhost:8080/"
        },
        "id": "EE8d8-c6FDAr",
        "outputId": "5bee12b8-da6a-4410-b76d-84b4a33c9321"
      },
      "execution_count": null,
      "outputs": [
        {
          "output_type": "execute_result",
          "data": {
            "text/plain": [
              "array([  0,  10,  20,  30,  40,  50,  60,  70,  80,  90, 100])"
            ]
          },
          "metadata": {},
          "execution_count": 78
        }
      ]
    },
    {
      "cell_type": "markdown",
      "source": [
        "**Graphe**"
      ],
      "metadata": {
        "id": "73XPu1XAeusj"
      }
    },
    {
      "cell_type": "code",
      "source": [
        "sns.set_theme(style=\"whitegrid\")\n",
        "ax=sns.lineplot(Y, X)\n",
        "ax.set(xlabel='temps', ylabel='Température')\n",
        "#plt.show()"
      ],
      "metadata": {
        "colab": {
          "base_uri": "https://localhost:8080/",
          "height": 357
        },
        "id": "7Mys5Ee0dy6V",
        "outputId": "566a7fa9-01d3-4bee-ed42-3117d06aeebd"
      },
      "execution_count": null,
      "outputs": [
        {
          "output_type": "stream",
          "name": "stderr",
          "text": [
            "/usr/local/lib/python3.7/dist-packages/seaborn/_decorators.py:43: FutureWarning: Pass the following variables as keyword args: x, y. From version 0.12, the only valid positional argument will be `data`, and passing other arguments without an explicit keyword will result in an error or misinterpretation.\n",
            "  FutureWarning\n"
          ]
        },
        {
          "output_type": "execute_result",
          "data": {
            "text/plain": [
              "[Text(0, 0.5, 'Température'), Text(0.5, 0, 'temps')]"
            ]
          },
          "metadata": {},
          "execution_count": 85
        },
        {
          "output_type": "display_data",
          "data": {
            "image/png": "[encoded data removed]",
            "text/plain": [
              "<Figure size 432x288 with 1 Axes>"
            ]
          },
          "metadata": {}
        }
      ]
    },
    {
      "cell_type": "markdown",
      "source": [
        "https://titanwolf.org/Network/Articles/Article?AID=e44d1105-7aca-468f-a4d4-d9529a5de627"
      ],
      "metadata": {
        "id": "IX8H1FJf9L-j"
      }
    },
    {
      "cell_type": "code",
      "source": [
        "\n",
        "def newtoncooling( temp):\n",
        "\treturn -0.07 * (temp - 20)"
      ],
      "metadata": {
        "id": "8tzfHdph8Fxv"
      },
      "execution_count": null,
      "outputs": []
    },
    {
      "cell_type": "code",
      "source": [
        "f= newtoncooling(5)"
      ],
      "metadata": {
        "id": "qyFnboYh8TBi"
      },
      "execution_count": null,
      "outputs": []
    },
    {
      "cell_type": "code",
      "source": [
        "def Newton(time, temp):\n",
        "\treturn -0.07 * (temp - 20)"
      ],
      "metadata": {
        "id": "TRx2xdIP9PTs"
      },
      "execution_count": null,
      "outputs": []
    },
    {
      "cell_type": "code",
      "source": [
        "def eulerExplicite(f,y0,t0,n,h):\n",
        "\tt,y = t0,y0\n",
        "  Ly =0\n",
        "\twhile t <= n:\n",
        "\t\t#print (\"%6.3f %6.3f\" % (t,y))\n",
        "    \n",
        "\t\tt += h\n",
        "\t\ty += h * f(t,y)\n",
        "  return t,y\n",
        "    \n",
        "\n",
        " \n"
      ],
      "metadata": {
        "colab": {
          "base_uri": "https://localhost:8080/",
          "height": 130
        },
        "id": "DPIisFPk-2W0",
        "outputId": "b420a1b2-7d12-4a8f-ebbe-086c6ce415b9"
      },
      "execution_count": null,
      "outputs": [
        {
          "output_type": "error",
          "ename": "IndentationError",
          "evalue": "ignored",
          "traceback": [
            "\u001b[0;36m  File \u001b[0;32m\"<ipython-input-73-c0132467db2b>\"\u001b[0;36m, line \u001b[0;32m3\u001b[0m\n\u001b[0;31m    Ly =0\u001b[0m\n\u001b[0m         ^\u001b[0m\n\u001b[0;31mIndentationError\u001b[0m\u001b[0;31m:\u001b[0m unindent does not match any outer indentation level\n"
          ]
        }
      ]
    },
    {
      "cell_type": "code",
      "source": [
        "eulerExplicite(Newton,100,0,100,10)"
      ],
      "metadata": {
        "colab": {
          "base_uri": "https://localhost:8080/"
        },
        "id": "yT9cp5GUFUCi",
        "outputId": "f2af5675-cc5f-4cb6-b79b-472e336172d0"
      },
      "execution_count": null,
      "outputs": [
        {
          "output_type": "stream",
          "name": "stdout",
          "text": [
            " 0.000 100.000\n",
            "10.000 44.000\n",
            "20.000 27.200\n",
            "30.000 22.160\n",
            "40.000 20.648\n",
            "50.000 20.194\n",
            "60.000 20.058\n",
            "70.000 20.017\n",
            "80.000 20.005\n",
            "90.000 20.002\n",
            "100.000 20.000\n"
          ]
        }
      ]
    }
  ]
}